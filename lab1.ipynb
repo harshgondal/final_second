{
 "cells": [
  {
   "cell_type": "code",
   "execution_count": 1,
   "id": "c3508150",
   "metadata": {},
   "outputs": [],
   "source": [
    "import torch;"
   ]
  },
  {
   "cell_type": "code",
   "execution_count": 2,
   "id": "7b54774b",
   "metadata": {},
   "outputs": [
    {
     "data": {
      "text/plain": [
       "'2.5.1+cu124'"
      ]
     },
     "execution_count": 2,
     "metadata": {},
     "output_type": "execute_result"
    }
   ],
   "source": [
    "torch.__version__"
   ]
  },
  {
   "cell_type": "markdown",
   "id": "19464b6c",
   "metadata": {},
   "source": [
    "## Q1"
   ]
  },
  {
   "cell_type": "code",
   "execution_count": 3,
   "id": "9ad75970",
   "metadata": {},
   "outputs": [
    {
     "name": "stdout",
     "output_type": "stream",
     "text": [
      "tensor([ 0,  1,  2,  3,  4,  5,  6,  7,  8,  9, 10, 11])\n"
     ]
    }
   ],
   "source": [
    "tensor = torch.arange(12)\n",
    "print(tensor)"
   ]
  },
  {
   "cell_type": "code",
   "execution_count": 4,
   "id": "aafb2699",
   "metadata": {},
   "outputs": [
    {
     "name": "stdout",
     "output_type": "stream",
     "text": [
      "tensor([[ 0,  1,  2,  3,  4,  5],\n",
      "        [ 6,  7,  8,  9, 10, 11]])\n"
     ]
    }
   ],
   "source": [
    "# Reshape\n",
    "reshaped_tensor = tensor.reshape(2, 6)\n",
    "print(reshaped_tensor)"
   ]
  },
  {
   "cell_type": "code",
   "execution_count": 5,
   "id": "f7efb986",
   "metadata": {},
   "outputs": [
    {
     "name": "stdout",
     "output_type": "stream",
     "text": [
      "tensor([[ 0,  1,  2,  3],\n",
      "        [ 4,  5,  6,  7],\n",
      "        [ 8,  9, 10, 11]])\n"
     ]
    }
   ],
   "source": [
    "# View\n",
    "viewed_tensor = tensor.view(3, 4)\n",
    "print(viewed_tensor)"
   ]
  },
  {
   "cell_type": "code",
   "execution_count": 6,
   "id": "81569d9b",
   "metadata": {},
   "outputs": [
    {
     "name": "stdout",
     "output_type": "stream",
     "text": [
      "tensor([[1, 2],\n",
      "        [3, 4]])\n"
     ]
    }
   ],
   "source": [
    "tensor1 = torch.tensor([1, 2])\n",
    "tensor2 = torch.tensor([3, 4])\n",
    "\n",
    "# Stack along a new dimension (dim=0)\n",
    "stacked_tensor = torch.stack((tensor1, tensor2), dim=0)\n",
    "print(stacked_tensor)"
   ]
  },
  {
   "cell_type": "code",
   "execution_count": 7,
   "id": "c864448f",
   "metadata": {},
   "outputs": [
    {
     "name": "stdout",
     "output_type": "stream",
     "text": [
      "tensor([1, 2, 3])\n"
     ]
    }
   ],
   "source": [
    "tensor = torch.tensor([[[1, 2, 3]]])\n",
    "\n",
    "# Squeeze the tensor to remove dimensions of size 1\n",
    "squeezed_tensor = tensor.squeeze()\n",
    "print(squeezed_tensor)"
   ]
  },
  {
   "cell_type": "code",
   "execution_count": 8,
   "id": "9fb26de6",
   "metadata": {},
   "outputs": [
    {
     "name": "stdout",
     "output_type": "stream",
     "text": [
      "tensor([[1, 2, 3]])\n"
     ]
    }
   ],
   "source": [
    "tensor = torch.tensor([1, 2, 3])\n",
    "\n",
    "# Unsqueeze to add a dimension at position 0\n",
    "unsqueezed_tensor = tensor.unsqueeze(0)\n",
    "print(unsqueezed_tensor)"
   ]
  },
  {
   "cell_type": "markdown",
   "id": "05458c40",
   "metadata": {},
   "source": [
    "## Q2"
   ]
  },
  {
   "cell_type": "code",
   "execution_count": 9,
   "id": "066df8b6",
   "metadata": {},
   "outputs": [
    {
     "name": "stdout",
     "output_type": "stream",
     "text": [
      "tensor([[0, 1, 2, 3, 4, 5, 6]])\n",
      "\n",
      "torch.Size([7, 1])\n",
      "\n",
      "tensor([[0],\n",
      "        [1],\n",
      "        [2],\n",
      "        [3],\n",
      "        [4],\n",
      "        [5],\n",
      "        [6]])\n"
     ]
    }
   ],
   "source": [
    "tensor = torch.arange(7).reshape(1, 7)\n",
    "print(f\"{tensor}\\n\")\n",
    "\n",
    "permuted_tensor = tensor.permute(1, 0)\n",
    "\n",
    "print(f\"{permuted_tensor.shape}\\n\")\n",
    "print(permuted_tensor)"
   ]
  },
  {
   "cell_type": "markdown",
   "id": "f95524e2",
   "metadata": {},
   "source": [
    "## Q3"
   ]
  },
  {
   "cell_type": "code",
   "execution_count": 10,
   "id": "06ef1e78",
   "metadata": {},
   "outputs": [
    {
     "name": "stdout",
     "output_type": "stream",
     "text": [
      "tensor(7)\n"
     ]
    }
   ],
   "source": [
    "tensor_ = torch.tensor([[[1, 2, 3, 4],\n",
    "                        [5, 6, 7, 8],\n",
    "                        [9, 10, 11, 12]],\n",
    "\n",
    "                       [[13, 14, 15, 16],\n",
    "                        [17, 18, 19, 20],\n",
    "                        [21, 22, 23, 24]]])\n",
    "\n",
    "element = tensor_[0, 1, 2]\n",
    "print(element)"
   ]
  },
  {
   "cell_type": "markdown",
   "id": "a800fc6a",
   "metadata": {},
   "source": [
    "## Q4"
   ]
  },
  {
   "cell_type": "code",
   "execution_count": 11,
   "id": "cbb7c10b",
   "metadata": {},
   "outputs": [
    {
     "name": "stdout",
     "output_type": "stream",
     "text": [
      "Original NumPy array:\n",
      " [[0.79972391 0.49540462 0.19324823]\n",
      " [0.2644638  0.7857849  0.40520175]\n",
      " [0.83930105 0.58667888 0.68427082]]\n",
      "Tensor from NumPy array:\n",
      " tensor([[0.7997, 0.4954, 0.1932],\n",
      "        [0.2645, 0.7858, 0.4052],\n",
      "        [0.8393, 0.5867, 0.6843]], dtype=torch.float64)\n",
      "NumPy array from Tensor:\n",
      " [[0.79972391 0.49540462 0.19324823]\n",
      " [0.2644638  0.7857849  0.40520175]\n",
      " [0.83930105 0.58667888 0.68427082]]\n"
     ]
    }
   ],
   "source": [
    "import numpy as np\n",
    "\n",
    "np_array = np.random.rand(3, 3)\n",
    "tensor_from_np = torch.from_numpy(np_array)\n",
    "np_from_tensor = tensor_from_np.numpy()\n",
    "\n",
    "print(\"Original NumPy array:\\n\", np_array)\n",
    "print(\"Tensor from NumPy array:\\n\", tensor_from_np)\n",
    "print(\"NumPy array from Tensor:\\n\", np_from_tensor)"
   ]
  },
  {
   "cell_type": "markdown",
   "id": "e1ebfc57",
   "metadata": {},
   "source": [
    "## Q5"
   ]
  },
  {
   "cell_type": "code",
   "execution_count": 12,
   "id": "499be46c",
   "metadata": {},
   "outputs": [
    {
     "name": "stdout",
     "output_type": "stream",
     "text": [
      "Random Tensor (7, 7):\n",
      " tensor([[0.3123, 0.5186, 0.2113, 0.2184, 0.3696, 0.7581, 0.9415],\n",
      "        [0.7444, 0.4666, 0.7738, 0.7491, 0.4855, 0.6206, 0.1598],\n",
      "        [0.4120, 0.4138, 0.5935, 0.5760, 0.0856, 0.5895, 0.4988],\n",
      "        [0.4898, 0.5289, 0.1726, 0.9905, 0.6388, 0.4384, 0.8039],\n",
      "        [0.0093, 0.3720, 0.6285, 0.1590, 0.1119, 0.6239, 0.7313],\n",
      "        [0.2506, 0.6282, 0.7492, 0.2489, 0.9606, 0.5490, 0.1329],\n",
      "        [0.0913, 0.7610, 0.0556, 0.8157, 0.3790, 0.5291, 0.3262]])\n"
     ]
    }
   ],
   "source": [
    "# Create a random tensor with shape (7, 7)\n",
    "random_tensor = torch.rand(7, 7)\n",
    "print(\"Random Tensor (7, 7):\\n\", random_tensor)"
   ]
  },
  {
   "cell_type": "markdown",
   "id": "37a04f79",
   "metadata": {},
   "source": [
    "## Q6"
   ]
  },
  {
   "cell_type": "code",
   "execution_count": 13,
   "id": "8f53bd0b",
   "metadata": {},
   "outputs": [
    {
     "name": "stdout",
     "output_type": "stream",
     "text": [
      "Matrix multiplication result:\n",
      " tensor([[142]])\n"
     ]
    }
   ],
   "source": [
    "# Create two random tensors \n",
    "tensor_a = torch.randint(1, 11, (1, 7)) \n",
    "\n",
    "# Perform matrix multiplication\n",
    "result = torch.matmul(tensor_a, permuted_tensor)\n",
    "print(\"Matrix multiplication result:\\n\", result)\n"
   ]
  },
  {
   "cell_type": "markdown",
   "id": "daaee1f1",
   "metadata": {},
   "source": [
    "## Q7"
   ]
  },
  {
   "cell_type": "code",
   "execution_count": 14,
   "id": "af695854",
   "metadata": {},
   "outputs": [
    {
     "name": "stdout",
     "output_type": "stream",
     "text": [
      "cpu\n"
     ]
    },
    {
     "name": "stderr",
     "output_type": "stream",
     "text": [
      "/home/student/Documents/220962038/.venv/lib/python3.12/site-packages/torch/cuda/__init__.py:129: UserWarning: CUDA initialization: Unexpected error from cudaGetDeviceCount(). Did you run some cuda functions before calling NumCudaDevices() that might have already set an error? Error 804: forward compatibility was attempted on non supported HW (Triggered internally at ../c10/cuda/CUDAFunctions.cpp:108.)\n",
      "  return torch._C._cuda_getDeviceCount() > 0\n"
     ]
    }
   ],
   "source": [
    "# Check if CUDA is available\n",
    "device = torch.device('cuda' if torch.cuda.is_available() else 'cpu')\n",
    "print(device)"
   ]
  },
  {
   "cell_type": "code",
   "execution_count": 15,
   "id": "e8d64a89",
   "metadata": {},
   "outputs": [
    {
     "name": "stdout",
     "output_type": "stream",
     "text": [
      "Tensor C on GPU:\n",
      " tensor([[0.5551, 0.5789, 0.0273],\n",
      "        [0.8860, 0.9711, 0.5386]])\n",
      "Tensor D on GPU:\n",
      " tensor([[0.6686, 0.2867],\n",
      "        [0.8445, 0.6743],\n",
      "        [0.4145, 0.7265]])\n",
      "Multiplication result : tensor([[0.8713, 0.5693],\n",
      "        [1.6357, 1.3000]])\n"
     ]
    }
   ],
   "source": [
    "# Create two random tensors\n",
    "tensor_1 = torch.rand(2, 3)\n",
    "tensor_2 = torch.rand(3, 2)\n",
    "\n",
    "# Move the tensors to the GPU\n",
    "tensor_1_gpu = tensor_1.to(device)\n",
    "tensor_2_gpu = tensor_2.to(device)\n",
    "\n",
    "print(\"Tensor C on GPU:\\n\", tensor_1_gpu)\n",
    "print(\"Tensor D on GPU:\\n\", tensor_2_gpu)\n",
    "\n",
    "print(f\"Multiplication result : {torch.matmul(tensor_1_gpu, tensor_2_gpu)}\")"
   ]
  },
  {
   "cell_type": "code",
   "execution_count": 16,
   "id": "ae8451df",
   "metadata": {},
   "outputs": [
    {
     "data": {
      "text/plain": [
       "False"
      ]
     },
     "execution_count": 16,
     "metadata": {},
     "output_type": "execute_result"
    }
   ],
   "source": [
    "torch.cuda.is_available()"
   ]
  },
  {
   "cell_type": "markdown",
   "id": "adbb79b4",
   "metadata": {},
   "source": [
    "## Q8"
   ]
  },
  {
   "cell_type": "code",
   "execution_count": 17,
   "id": "a38ac8e5",
   "metadata": {},
   "outputs": [
    {
     "name": "stdout",
     "output_type": "stream",
     "text": [
      "tensor([[ 426,  284,  142, 1420,  568, 1420,  994]])\n"
     ]
    }
   ],
   "source": [
    "res = torch.matmul(result, tensor_a)\n",
    "print(res)"
   ]
  },
  {
   "cell_type": "markdown",
   "id": "699f10ed",
   "metadata": {},
   "source": [
    "## Q9 & Q10"
   ]
  },
  {
   "cell_type": "code",
   "execution_count": 18,
   "id": "c2da4b72",
   "metadata": {},
   "outputs": [
    {
     "name": "stdout",
     "output_type": "stream",
     "text": [
      "Max Value: 0.9951467514038086, Max Index: 6\n",
      "Min Value: 0.009990870952606201, Min Index: 20\n"
     ]
    }
   ],
   "source": [
    "tensor = torch.rand(5, 5)\n",
    "\n",
    "max_value = tensor.max()\n",
    "min_value = tensor.min()\n",
    "\n",
    "max_value_index = tensor.argmax()  # Index of max value in flattened tensor\n",
    "min_value_index = tensor.argmin()  # Index of min value in flattened tensor\n",
    "\n",
    "print(f\"Max Value: {max_value}, Max Index: {max_value_index}\")\n",
    "print(f\"Min Value: {min_value}, Min Index: {min_value_index}\")"
   ]
  },
  {
   "cell_type": "markdown",
   "id": "2db5631f",
   "metadata": {},
   "source": [
    "## Q11"
   ]
  },
  {
   "cell_type": "code",
   "execution_count": 19,
   "id": "5cd2ec89",
   "metadata": {},
   "outputs": [
    {
     "name": "stdout",
     "output_type": "stream",
     "text": [
      "Original tensor shape: torch.Size([1, 1, 1, 10])\n",
      "Squeezed tensor shape: torch.Size([10])\n",
      "\n",
      "Random tensor values:\n",
      " tensor([[[[0.5349, 0.1988, 0.6592, 0.6569, 0.2328, 0.4251, 0.2071, 0.6297,\n",
      "           0.3653, 0.8513]]]])\n",
      "\n",
      "Squeezed tensor values:\n",
      " tensor([0.5349, 0.1988, 0.6592, 0.6569, 0.2328, 0.4251, 0.2071, 0.6297, 0.3653,\n",
      "        0.8513])\n"
     ]
    }
   ],
   "source": [
    "torch.manual_seed(7)\n",
    "\n",
    "random_tensor = torch.rand(1, 1, 1, 10)\n",
    "\n",
    "squeezed_tensor = random_tensor.squeeze()\n",
    "\n",
    "print(\"Original tensor shape:\", random_tensor.shape)\n",
    "print(\"Squeezed tensor shape:\", squeezed_tensor.shape)\n",
    "print(\"\\nRandom tensor values:\\n\", random_tensor)\n",
    "print(\"\\nSqueezed tensor values:\\n\", squeezed_tensor)"
   ]
  }
 ],
 "metadata": {
  "kernelspec": {
   "display_name": "Python 3 (ipykernel)",
   "language": "python",
   "name": "python3"
  },
  "language_info": {
   "codemirror_mode": {
    "name": "ipython",
    "version": 3
   },
   "file_extension": ".py",
   "mimetype": "text/x-python",
   "name": "python",
   "nbconvert_exporter": "python",
   "pygments_lexer": "ipython3",
   "version": "3.12.3"
  }
 },
 "nbformat": 4,
 "nbformat_minor": 5
}
